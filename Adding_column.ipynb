{
 "cells": [
  {
   "cell_type": "markdown",
   "metadata": {},
   "source": [
    "Below is a snippet from a table that contains information about employees that work at Company XYZ:"
   ]
  },
  {
   "cell_type": "code",
   "execution_count": 2,
   "metadata": {
    "collapsed": false
   },
   "outputs": [
    {
     "data": {
      "text/html": [
       "<div>\n",
       "<table border=\"1\" class=\"dataframe\">\n",
       "  <thead>\n",
       "    <tr style=\"text-align: right;\">\n",
       "      <th></th>\n",
       "      <th>employee_name</th>\n",
       "      <th>employee_id</th>\n",
       "      <th>date_joined</th>\n",
       "      <th>age</th>\n",
       "      <th>yrs_of_experience</th>\n",
       "    </tr>\n",
       "  </thead>\n",
       "  <tbody>\n",
       "    <tr>\n",
       "      <th>0</th>\n",
       "      <td>Andy</td>\n",
       "      <td>123456</td>\n",
       "      <td>2015-02-15</td>\n",
       "      <td>45</td>\n",
       "      <td>24</td>\n",
       "    </tr>\n",
       "    <tr>\n",
       "      <th>1</th>\n",
       "      <td>Beth</td>\n",
       "      <td>789456</td>\n",
       "      <td>2014-02-15</td>\n",
       "      <td>36</td>\n",
       "      <td>15</td>\n",
       "    </tr>\n",
       "    <tr>\n",
       "      <th>2</th>\n",
       "      <td>Cindy</td>\n",
       "      <td>654123</td>\n",
       "      <td>2017-05-16</td>\n",
       "      <td>34</td>\n",
       "      <td>14</td>\n",
       "    </tr>\n",
       "    <tr>\n",
       "      <th>3</th>\n",
       "      <td>Dale</td>\n",
       "      <td>963852</td>\n",
       "      <td>2018-01-15</td>\n",
       "      <td>25</td>\n",
       "      <td>4</td>\n",
       "    </tr>\n",
       "  </tbody>\n",
       "</table>\n",
       "</div>"
      ],
      "text/plain": [
       "  employee_name  employee_id date_joined  age  yrs_of_experience\n",
       "0          Andy       123456  2015-02-15   45                 24\n",
       "1          Beth       789456  2014-02-15   36                 15\n",
       "2         Cindy       654123  2017-05-16   34                 14\n",
       "3          Dale       963852  2018-01-15   25                  4"
      ]
     },
     "execution_count": 2,
     "metadata": {},
     "output_type": "execute_result"
    }
   ],
   "source": [
    "import pandas as pd\n",
    "import numpy as np\n",
    "raw_data = {'employee_name': ['Andy', 'Beth', 'Cindy', 'Dale'], \n",
    "        'employee_id': [123456, 789456, 654123, 963852], \n",
    "        'date_joined': ['2015-02-15', '2014-02-15', '2017-05-16', '2018-01-15'], \n",
    "        'age': [45, 36, 34, 25],\n",
    "        'yrs_of_experience' :  [24, 15, 14, 4]}\n",
    "df = pd.DataFrame(raw_data, columns = ['employee_name', 'employee_id', 'date_joined', 'age', 'yrs_of_experience'])\n",
    "df"
   ]
  },
  {
   "cell_type": "markdown",
   "metadata": {},
   "source": [
    "Company XYZ is looking to create a report that groups the experience of its employees into 3 simple categories, with the following bins (inclusive):\n",
    "\n",
    "0-5 Low\n",
    "6-15 Medium\n",
    "16+ High\n",
    "Additionally, you can assume the data is clean and there are no employees with negative or non-numerical years of experience.\n",
    "\n",
    "Write code in Python (using Pandas) to create a new column in the dataframe, called 'experience_binned', that groups employees as requested above."
   ]
  },
  {
   "cell_type": "code",
   "execution_count": 5,
   "metadata": {
    "collapsed": false
   },
   "outputs": [
    {
     "data": {
      "text/html": [
       "<div>\n",
       "<table border=\"1\" class=\"dataframe\">\n",
       "  <thead>\n",
       "    <tr style=\"text-align: right;\">\n",
       "      <th></th>\n",
       "      <th>employee_name</th>\n",
       "      <th>employee_id</th>\n",
       "      <th>date_joined</th>\n",
       "      <th>age</th>\n",
       "      <th>yrs_of_experience</th>\n",
       "      <th>experience_binned</th>\n",
       "    </tr>\n",
       "  </thead>\n",
       "  <tbody>\n",
       "    <tr>\n",
       "      <th>0</th>\n",
       "      <td>Andy</td>\n",
       "      <td>123456</td>\n",
       "      <td>2015-02-15</td>\n",
       "      <td>45</td>\n",
       "      <td>24</td>\n",
       "      <td>High</td>\n",
       "    </tr>\n",
       "    <tr>\n",
       "      <th>1</th>\n",
       "      <td>Beth</td>\n",
       "      <td>789456</td>\n",
       "      <td>2014-02-15</td>\n",
       "      <td>36</td>\n",
       "      <td>15</td>\n",
       "      <td>Medium</td>\n",
       "    </tr>\n",
       "    <tr>\n",
       "      <th>2</th>\n",
       "      <td>Cindy</td>\n",
       "      <td>654123</td>\n",
       "      <td>2017-05-16</td>\n",
       "      <td>34</td>\n",
       "      <td>14</td>\n",
       "      <td>Medium</td>\n",
       "    </tr>\n",
       "    <tr>\n",
       "      <th>3</th>\n",
       "      <td>Dale</td>\n",
       "      <td>963852</td>\n",
       "      <td>2018-01-15</td>\n",
       "      <td>25</td>\n",
       "      <td>4</td>\n",
       "      <td>Low</td>\n",
       "    </tr>\n",
       "  </tbody>\n",
       "</table>\n",
       "</div>"
      ],
      "text/plain": [
       "  employee_name  employee_id date_joined  age  yrs_of_experience  \\\n",
       "0          Andy       123456  2015-02-15   45                 24   \n",
       "1          Beth       789456  2014-02-15   36                 15   \n",
       "2         Cindy       654123  2017-05-16   34                 14   \n",
       "3          Dale       963852  2018-01-15   25                  4   \n",
       "\n",
       "  experience_binned  \n",
       "0              High  \n",
       "1            Medium  \n",
       "2            Medium  \n",
       "3               Low  "
      ]
     },
     "execution_count": 5,
     "metadata": {},
     "output_type": "execute_result"
    }
   ],
   "source": [
    "#create a list of conditions\n",
    "cond = [\n",
    "        (df['yrs_of_experience'] <=5),\n",
    "        (df['yrs_of_experience']>=6) & (df['yrs_of_experience'] <=15),\n",
    "        (df['yrs_of_experience'] >=16)\n",
    "]\n",
    "\n",
    "#create a list of the values for each of the conditions\n",
    "values = ['Low', 'Medium', 'High']\n",
    "\n",
    "#create a new column with np.select to assign the calues to\n",
    "df['experience_binned'] = np.select(cond, values)\n",
    "\n",
    "df\n",
    "\n"
   ]
  }
 ],
 "metadata": {
  "anaconda-cloud": {},
  "kernelspec": {
   "display_name": "Python [default]",
   "language": "python",
   "name": "python3"
  },
  "language_info": {
   "codemirror_mode": {
    "name": "ipython",
    "version": 3
   },
   "file_extension": ".py",
   "mimetype": "text/x-python",
   "name": "python",
   "nbconvert_exporter": "python",
   "pygments_lexer": "ipython3",
   "version": "3.5.2"
  }
 },
 "nbformat": 4,
 "nbformat_minor": 1
}
